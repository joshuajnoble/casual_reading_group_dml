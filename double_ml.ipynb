{
 "cells": [
  {
   "cell_type": "code",
   "execution_count": 2,
   "id": "a724dd9e-243a-4b2f-afa9-627caa3baafe",
   "metadata": {
    "tags": []
   },
   "outputs": [],
   "source": [
    "import warnings\n",
    "import numpy as np\n",
    "from scipy import stats\n",
    "import matplotlib.pyplot as plt\n",
    "import seaborn as sns\n",
    "\n",
    "from lightgbm import LGBMRegressor\n",
    "from sklearn.ensemble import RandomForestRegressor\n",
    "from sklearn.model_selection import train_test_split\n",
    "from sklearn.base import clone\n",
    "\n",
    "from doubleml import DoubleMLData\n",
    "from doubleml import DoubleMLPLR"
   ]
  },
  {
   "cell_type": "code",
   "execution_count": 3,
   "id": "d72ae615-26f4-44b4-b446-61c3bd708680",
   "metadata": {
    "tags": []
   },
   "outputs": [],
   "source": [
    "import pandas as pd\n",
    "import doubleml"
   ]
  },
  {
   "cell_type": "code",
   "execution_count": 53,
   "id": "2a2093bc-15ee-4f9b-98e5-134e25324a51",
   "metadata": {
    "tags": []
   },
   "outputs": [],
   "source": [
    "df = pd.read_csv(\"causal_challenge_limited_data.csv\")"
   ]
  },
  {
   "cell_type": "code",
   "execution_count": 54,
   "id": "a7474cff-97f5-42b0-b90c-b3151fdf94de",
   "metadata": {
    "tags": []
   },
   "outputs": [
    {
     "name": "stdout",
     "output_type": "stream",
     "text": [
      "                   coef  std err           t  P>|t|      2.5 %     97.5 %\n",
      "treat_binary  50.764243  0.38893  130.522884    0.0  50.001954  51.526531\n"
     ]
    }
   ],
   "source": [
    "np.random.seed(42)\n",
    "\n",
    "from sklearn.linear_model import LogisticRegression, LinearRegression, LogisticRegressionCV, RidgeClassifierCV, PassiveAggressiveClassifier\n",
    "from sklearn.ensemble import RandomForestClassifier, RandomForestRegressor\n",
    "from xgboost import XGBClassifier, XGBRegressor\n",
    "\n",
    "rf_g = RandomForestRegressor(n_estimators = 500, max_depth = 15, max_features = 4, min_samples_leaf = 7)\n",
    "ml_g = XGBRegressor(tree_method=\"hist\", objective = \"reg:squarederror\", eta = 0.01, n_estimators =50)\n",
    "rf_m = RandomForestClassifier(n_estimators = 500, max_depth = 5, max_features = 4, min_samples_leaf = 7)\n",
    "ml_m = LogisticRegressionCV(cv=5) \n",
    "\n",
    "\n",
    "dml_data = doubleml.DoubleMLData(df, y_col = 'Y', d_cols = 'treat_binary', x_cols=['x1', 'x2'])\n",
    "\n",
    "dml_irm = doubleml.DoubleMLIRM(dml_data, ml_g=ml_g, ml_m=ml_m)\n",
    "dml_irm.fit(store_predictions=True)\n",
    "\n",
    "print(dml_irm.summary)"
   ]
  },
  {
   "cell_type": "markdown",
   "id": "d806ce51-a999-4438-bf4a-8730d7ad8f5e",
   "metadata": {},
   "source": [
    "Despite this being (I think) the same set up as the R code, XGB regressor for G-estimation and LogisticRegression for the M, the results are way off"
   ]
  },
  {
   "cell_type": "code",
   "execution_count": 55,
   "id": "ae8a21e8-f34f-4bc9-a3df-9a0c0ed26ec4",
   "metadata": {
    "tags": []
   },
   "outputs": [
    {
     "name": "stdout",
     "output_type": "stream",
     "text": [
      "                  coef   std err        t  P>|t|      2.5 %     97.5 %\n",
      "treat_binary  18.86101  0.393334  47.9516    0.0  18.090089  19.631932\n"
     ]
    }
   ],
   "source": [
    "dml_plr = doubleml.DoubleMLPLR(dml_data, ml_l=rf_g, ml_m=rf_m)\n",
    "dml_plr.fit(store_predictions=True)\n",
    "\n",
    "print(dml_plr.summary)"
   ]
  },
  {
   "cell_type": "markdown",
   "id": "ece7f3ef-515a-4e41-b95e-1525b4050cea",
   "metadata": {},
   "source": [
    "PartialLR doesn't do any better."
   ]
  }
 ],
 "metadata": {
  "kernelspec": {
   "display_name": "dml_env",
   "language": "python",
   "name": "dml_env"
  },
  "language_info": {
   "codemirror_mode": {
    "name": "ipython",
    "version": 3
   },
   "file_extension": ".py",
   "mimetype": "text/x-python",
   "name": "python",
   "nbconvert_exporter": "python",
   "pygments_lexer": "ipython3",
   "version": "3.11.5"
  }
 },
 "nbformat": 4,
 "nbformat_minor": 5
}
